{
 "cells": [
  {
   "cell_type": "code",
   "execution_count": 1,
   "id": "8e7e0326",
   "metadata": {},
   "outputs": [],
   "source": [
    "import numpy as np\n",
    "import pandas as pd"
   ]
  },
  {
   "cell_type": "code",
   "execution_count": 21,
   "id": "1f2f09cd",
   "metadata": {},
   "outputs": [],
   "source": [
    "final_train_df = pd.read_csv(\"all_train_final.csv\", index_col = 0)\n",
    "final_test_df = pd.read_csv(\"test_final_summaries.csv\", index_col = 0)\n",
    "baseline_df = pd.read_csv(\"all_summaries.csv\", index_col = 0)\n",
    "gold_df = pd.read_csv(\"gold_final.csv\", index_col = 0)"
   ]
  },
  {
   "cell_type": "code",
   "execution_count": 7,
   "id": "35238287",
   "metadata": {},
   "outputs": [
    {
     "data": {
      "text/html": [
       "<div>\n",
       "<style scoped>\n",
       "    .dataframe tbody tr th:only-of-type {\n",
       "        vertical-align: middle;\n",
       "    }\n",
       "\n",
       "    .dataframe tbody tr th {\n",
       "        vertical-align: top;\n",
       "    }\n",
       "\n",
       "    .dataframe thead th {\n",
       "        text-align: right;\n",
       "    }\n",
       "</style>\n",
       "<table border=\"1\" class=\"dataframe\">\n",
       "  <thead>\n",
       "    <tr style=\"text-align: right;\">\n",
       "      <th></th>\n",
       "      <th>title</th>\n",
       "      <th>link</th>\n",
       "      <th>description</th>\n",
       "      <th>duration</th>\n",
       "      <th>podcast_id</th>\n",
       "      <th>transcript</th>\n",
       "      <th>cleaned_transcripts</th>\n",
       "      <th>cleaned_description</th>\n",
       "      <th>ext_summaries</th>\n",
       "      <th>ext_rouge</th>\n",
       "    </tr>\n",
       "  </thead>\n",
       "  <tbody>\n",
       "    <tr>\n",
       "      <th>0</th>\n",
       "      <td>Letter of Unhappiness</td>\n",
       "      <td>https://www.npr.org/2022/03/30/1089668294/lett...</td>\n",
       "      <td>When Naira calls her parents back home in Russ...</td>\n",
       "      <td>950.0</td>\n",
       "      <td>1089668294</td>\n",
       "      <td>[&lt;div aria-label=\"Transcript\" class=\"transcrip...</td>\n",
       "      <td>You're listening to ROUGH TRANSLATION from N...</td>\n",
       "      <td>When Naira calls her parents back home in Russ...</td>\n",
       "      <td>You're listening to ROUGH TRANSLATION from N...</td>\n",
       "      <td>{'rouge1': Score(precision=0.6585365853658537,...</td>\n",
       "    </tr>\n",
       "    <tr>\n",
       "      <th>1</th>\n",
       "      <td>The Culture Front</td>\n",
       "      <td>https://www.npr.org/2022/03/15/1086679997/the-...</td>\n",
       "      <td>When protecting a language is used as justific...</td>\n",
       "      <td>2436.0</td>\n",
       "      <td>1086679997</td>\n",
       "      <td>[&lt;div aria-label=\"Transcript\" class=\"transcrip...</td>\n",
       "      <td>You're listening to ROUGH TRANSLATION from N...</td>\n",
       "      <td>When protecting a language is used as justific...</td>\n",
       "      <td>You're listening to ROUGH TRANSLATION from N...</td>\n",
       "      <td>{'rouge1': Score(precision=0.6944444444444444,...</td>\n",
       "    </tr>\n",
       "    <tr>\n",
       "      <th>2</th>\n",
       "      <td>Fighting Words In Ukraine</td>\n",
       "      <td>https://www.npr.org/2022/03/02/1083960666/figh...</td>\n",
       "      <td>Vladimir Putin joined the KGB at age 23. Ukrai...</td>\n",
       "      <td>1883.0</td>\n",
       "      <td>1083960666</td>\n",
       "      <td>[&lt;div aria-label=\"Transcript\" class=\"transcrip...</td>\n",
       "      <td>You're listening to ROUGH TRANSLATION from N...</td>\n",
       "      <td>Vladimir Putin joined the KGB at age 23. Ukrai...</td>\n",
       "      <td>So watching the news out of Ukraine this week,...</td>\n",
       "      <td>{'rouge1': Score(precision=0.625, recall=0.056...</td>\n",
       "    </tr>\n",
       "    <tr>\n",
       "      <th>3</th>\n",
       "      <td>May We Have This Dance?</td>\n",
       "      <td>https://www.npr.org/2021/12/22/1066965712/may-...</td>\n",
       "      <td>A jazz dance born in Harlem in the 1920s ends ...</td>\n",
       "      <td>2630.0</td>\n",
       "      <td>1066965712</td>\n",
       "      <td>[&lt;div aria-label=\"Transcript\" class=\"transcrip...</td>\n",
       "      <td>This is ROUGH TRANSLATION from NPR. I grew u...</td>\n",
       "      <td>A jazz dance born in Harlem in the 1920s ends ...</td>\n",
       "      <td>It was called Lindy Hop. LaTasha Barnes, who f...</td>\n",
       "      <td>{'rouge1': Score(precision=0.5714285714285714,...</td>\n",
       "    </tr>\n",
       "    <tr>\n",
       "      <th>4</th>\n",
       "      <td>Moms In Translation</td>\n",
       "      <td>https://www.npr.org/2021/12/14/1064250980/moms...</td>\n",
       "      <td>An Irish journalist discovers she belongs in a...</td>\n",
       "      <td>2519.0</td>\n",
       "      <td>1064250980</td>\n",
       "      <td>[&lt;div aria-label=\"Transcript\" class=\"transcrip...</td>\n",
       "      <td>Hey. It's Gregory from ROUGH TRANSLATION. Ju...</td>\n",
       "      <td>An Irish journalist discovers she belongs in a...</td>\n",
       "      <td>Hey. It's Gregory from ROUGH TRANSLATION. In...</td>\n",
       "      <td>{'rouge1': Score(precision=0.5483870967741935,...</td>\n",
       "    </tr>\n",
       "  </tbody>\n",
       "</table>\n",
       "</div>"
      ],
      "text/plain": [
       "                       title  \\\n",
       "0      Letter of Unhappiness   \n",
       "1          The Culture Front   \n",
       "2  Fighting Words In Ukraine   \n",
       "3    May We Have This Dance?   \n",
       "4        Moms In Translation   \n",
       "\n",
       "                                                link  \\\n",
       "0  https://www.npr.org/2022/03/30/1089668294/lett...   \n",
       "1  https://www.npr.org/2022/03/15/1086679997/the-...   \n",
       "2  https://www.npr.org/2022/03/02/1083960666/figh...   \n",
       "3  https://www.npr.org/2021/12/22/1066965712/may-...   \n",
       "4  https://www.npr.org/2021/12/14/1064250980/moms...   \n",
       "\n",
       "                                         description  duration  podcast_id  \\\n",
       "0  When Naira calls her parents back home in Russ...     950.0  1089668294   \n",
       "1  When protecting a language is used as justific...    2436.0  1086679997   \n",
       "2  Vladimir Putin joined the KGB at age 23. Ukrai...    1883.0  1083960666   \n",
       "3  A jazz dance born in Harlem in the 1920s ends ...    2630.0  1066965712   \n",
       "4  An Irish journalist discovers she belongs in a...    2519.0  1064250980   \n",
       "\n",
       "                                          transcript  \\\n",
       "0  [<div aria-label=\"Transcript\" class=\"transcrip...   \n",
       "1  [<div aria-label=\"Transcript\" class=\"transcrip...   \n",
       "2  [<div aria-label=\"Transcript\" class=\"transcrip...   \n",
       "3  [<div aria-label=\"Transcript\" class=\"transcrip...   \n",
       "4  [<div aria-label=\"Transcript\" class=\"transcrip...   \n",
       "\n",
       "                                 cleaned_transcripts  \\\n",
       "0    You're listening to ROUGH TRANSLATION from N...   \n",
       "1    You're listening to ROUGH TRANSLATION from N...   \n",
       "2    You're listening to ROUGH TRANSLATION from N...   \n",
       "3    This is ROUGH TRANSLATION from NPR. I grew u...   \n",
       "4    Hey. It's Gregory from ROUGH TRANSLATION. Ju...   \n",
       "\n",
       "                                 cleaned_description  \\\n",
       "0  When Naira calls her parents back home in Russ...   \n",
       "1  When protecting a language is used as justific...   \n",
       "2  Vladimir Putin joined the KGB at age 23. Ukrai...   \n",
       "3  A jazz dance born in Harlem in the 1920s ends ...   \n",
       "4  An Irish journalist discovers she belongs in a...   \n",
       "\n",
       "                                       ext_summaries  \\\n",
       "0    You're listening to ROUGH TRANSLATION from N...   \n",
       "1    You're listening to ROUGH TRANSLATION from N...   \n",
       "2  So watching the news out of Ukraine this week,...   \n",
       "3  It was called Lindy Hop. LaTasha Barnes, who f...   \n",
       "4    Hey. It's Gregory from ROUGH TRANSLATION. In...   \n",
       "\n",
       "                                           ext_rouge  \n",
       "0  {'rouge1': Score(precision=0.6585365853658537,...  \n",
       "1  {'rouge1': Score(precision=0.6944444444444444,...  \n",
       "2  {'rouge1': Score(precision=0.625, recall=0.056...  \n",
       "3  {'rouge1': Score(precision=0.5714285714285714,...  \n",
       "4  {'rouge1': Score(precision=0.5483870967741935,...  "
      ]
     },
     "execution_count": 7,
     "metadata": {},
     "output_type": "execute_result"
    }
   ],
   "source": [
    "ext_df = pd.read_csv(\"extractive_summaries_v2.csv\", index_col = 0)\n",
    "ext_df.head()"
   ]
  },
  {
   "cell_type": "code",
   "execution_count": 25,
   "id": "8a45e92e",
   "metadata": {
    "scrolled": true
   },
   "outputs": [],
   "source": [
    "full_train_data = pd.merge(final_train_df,ext_df,left_on='title',right_on='title')\n",
    "full_test_data = pd.merge(final_test_df,ext_df,left_on='title',right_on='title')\n",
    "full_baseline_data = pd.merge(baseline_df, ext_df, left_on='title', right_on='title')"
   ]
  },
  {
   "cell_type": "code",
   "execution_count": 58,
   "id": "c9952ca6",
   "metadata": {},
   "outputs": [
    {
     "data": {
      "text/plain": [
       "3782"
      ]
     },
     "execution_count": 58,
     "metadata": {},
     "output_type": "execute_result"
    }
   ],
   "source": [
    "len(full_train_data)"
   ]
  },
  {
   "cell_type": "code",
   "execution_count": 26,
   "id": "5fdc0cd1",
   "metadata": {},
   "outputs": [],
   "source": [
    "full_train_data.to_csv(\"full_train_data.csv\")\n",
    "full_test_data.to_csv(\"full_test_data.csv\")\n",
    "full_baseline_data.to_csv(\"full_baseline_data.csv\")"
   ]
  },
  {
   "cell_type": "code",
   "execution_count": 52,
   "id": "44460d8c",
   "metadata": {},
   "outputs": [
    {
     "data": {
      "text/plain": [
       "title                    What Will Climate And Health Policy Look Like ...\n",
       "ext_summaries_x           Hey there. It's Danielle Kurtzleben. And befo...\n",
       "cleaned_description_x    Joe Biden's climate policy will look a lot dif...\n",
       "final_summary            [\" President-elect Joe Biden has said he wants...\n",
       "rouge1 final                                                      0.327586\n",
       "rouge2 final                                                      0.087719\n",
       "rougeLsum final                                                   0.172414\n",
       "link                     https://www.npr.org/2020/12/29/951177417/what-...\n",
       "description              Joe Biden's climate policy will look a lot dif...\n",
       "duration                                                             915.0\n",
       "podcast_id                                                       951177417\n",
       "transcript               [<div aria-label=\"Transcript\" class=\"transcrip...\n",
       "cleaned_transcripts       Hey there. It's Danielle Kurtzleben. And befo...\n",
       "cleaned_description_y    Joe Biden's climate policy will look a lot dif...\n",
       "ext_summaries_y           Hey there. It's Danielle Kurtzleben. And befo...\n",
       "ext_rouge                {'rouge1': Score(precision=0.6086956521739131,...\n",
       "Name: 14, dtype: object"
      ]
     },
     "execution_count": 52,
     "metadata": {},
     "output_type": "execute_result"
    }
   ],
   "source": [
    "curr_row = full_test_data.iloc[14]\n",
    "curr_row"
   ]
  },
  {
   "cell_type": "code",
   "execution_count": 53,
   "id": "bd81d9f0",
   "metadata": {},
   "outputs": [
    {
     "data": {
      "text/plain": [
       "'What Will Climate And Health Policy Look Like Under Joe Biden?'"
      ]
     },
     "execution_count": 53,
     "metadata": {},
     "output_type": "execute_result"
    }
   ],
   "source": [
    "curr_row[\"title\"]"
   ]
  },
  {
   "cell_type": "code",
   "execution_count": 54,
   "id": "b6bbcf96",
   "metadata": {},
   "outputs": [
    {
     "data": {
      "text/plain": [
       "' Hey there. It\\'s Danielle Kurtzleben. And before we start the show, we want to ask you to support your local NPR station. By supporting them, you\\'re supporting all of us on this podcast. All of our lives were upended this year, and we at NPR and at all of your local stations have tried to cut through the noise to make sure you know the facts about the election, the coronavirus and so many other stories. So if you\\'ve got some dollars to spare, head to donate.npr.org/politics to get started. Again, that\\'s donate.npr.org/politics. And thank you.  Hey there. It\\'s the NPR POLITICS PODCAST. I\\'m Ayesha Rascoe. I cover the White House. I\\'m Scott Detrow. I cover the Biden transition. I\\'m Jennifer Ludden. I edit energy and environment. So, Jennifer Ludden, you\\'re here joining us. Thanks so much for talking with us. Hello. Hello. So Joe Biden has over and over emphasized climate as a central part of his administration. We\\'re going to get into what that really means. But first, let\\'s start with what the last four years have looked like for climate policy because it really hasn\\'t existed, right, Jennifer? Right . Well, it\\'s been very active sort of, like, in the reverse. I mean, you know, after - going from President Obama to Trump was like whiplash, and we\\'re kind of having, you know, reverse whiplash again. All those actions that Obama took in eight years, we have seen dozens and dozens of rollbacks of them. You know, there was the Paris climate accord, of course, and then rules to bring down carbon emissions in power plants, to make cars more fuel-efficient, to, you know, restrict development of wetlands and so forth.A lot of this has been challenged. You know, we\\'ve had a lot of court cases. And the Trump administration has lost some of those, but some are ongoing. And, you know, another maybe lasting climate legacy of President Trump will be all the conservative court appointees he had, including three in the Supreme Court, which is where some of these contested rules may end up. But to be frank, climate action has never really measured up to what scientists say we\\'ve needed, right? It\\'s - we as a country have fallen short. True. I know. So much - you know, Obama had so many fights about getting, you know, his measures passed, and they\\'re really inadequate. But I will say so much has changed in the past four years. It\\'s pretty remarkable. We have been sort of hanging out in limbo or reverse, but the rest of the world and a lot of U.S. cities and states have just been on fast-forward. You have seen countries, cities, states, businesses, industry, utility companies establish these incredibly ambitious goals of not only reducing carbon emissions but trying to go for zero carbon in the next few decades.This has been driven by, you know, a major shift in public opinion, huge ramp-up in extreme weather disasters. More Americans are feeling this viscerally in their lives - you know, the hurricanes, the fires, the heat. And so, you know, it\\'s pretty clear that just bringing back what Obama had managed to pass is not going to be nearly enough. And that\\'s the way that Biden talked about this throughout the campaign, and it\\'s the way that the various advisers and, you know, Cabinet picks and Cabinet-level special positions he\\'s created are viewing this. Like, the overwhelming view of the people who will be setting policy is, the world is on the clock. The U.S. has wasted four years on this effort. And they need to radically overhaul the entire power sector over a decade and a half and then keep going and totally transform the country\\'s economy by 2050. And that\\'s basically to do almost the bare minimum of what is needed, according to experts, to stave off the worst of a warming planet. When you look at, you know, how you\\'re going to deal with this issue, obviously, you have the power sector, which is - the huge amount of the carbon comes from that. You also have the transportation, the way we fuel our cars and trucks. That comes from fossil fuels. What is Biden looking to do? Is he going to phase out all coal? We\\'re going to go to all renewable energy. We all know that, you know, the sun doesn\\'t shine all the time. Wind doesn\\'t blow all the time. How does that work? And then President Trump would always say, you know, I can\\'t watch cable because the wind\\'s not blowing, honey. Some of these paths forward are more straightforward than others, right? Like, just to take vehicles and emissions - that\\'s an area where it is pretty straightforward. And you have - I wouldn\\'t even call it reluctant agreement - right? - from a lot of big auto manufacturers. Is that fair to say, Jennifer? Like, it\\'s kind of, like, acceptance of, like, yes... Yeah. ...Both in conjunction with states like California and the federal government, which clearly has the right to do this, getting back on pace... Totally. ...To having stricter emissions, higher mileage standards. So cars are... Yeah. ...Using less gasoline and then, hopefully sooner rather than later, aren\\'t using gasoline at all. Yeah. No, they\\'re on board because, you know, the world is moving in this direction. It\\'s pretty clear - so, you know, they\\'re quibbling over the details, but they see what\\'s happening. And then, you know, I think the interesting thing about the Biden administration is that even beyond all these obvious things, I mean, it\\'s, like, an all-hands-on-deck approach, you know - whole of government. They\\'re going to try every way they can.And you\\'ve seen Biden talk about climate with just about all of his nominees. You know, he\\'s like, oh, my trade representative. Oh, she can really, you know, address how extreme weather is affecting global supply chains . Every aspect of this is how they\\'re going to try and do it. You know, housing can reduce emissions in all the publicly subsidized housings - housing it controls. Agriculture - you can do farming practices that kind of keep the carbon in the soil.It\\'s like there\\'s something for everyone, even, you know, Treasury in the way you finance. You know, there\\'s an idea that maybe you could, you know, discourage fossil fuel investment. And Janet Yellen, his pick for Treasury secretary - she has spoken out about the need to reduce carbon emissions. And, you know, obviously, when we talk about climate, it\\'s never just about one country because emissions don\\'t, you know, care about borders or boundaries like that. This is a global issue. So how is Biden going to try to deal with this on an international foreign policy level? It\\'s going to be a big part of what they\\'re focusing on. And I think it ties with Biden\\'s main foreign policy goal of reengaging the U.S. with the world, right? He has made it clear that one of the very first things he\\'s going to do is rejoin the Paris climate accords. He insists he\\'s still going to have a big global climate summit in the first hundred days of his administration. I was skeptical that could happen because of this whole pandemic thing, but Biden keeps talking about it and seems to be putting it forward.But, you know, it\\'s interesting. It ties into so many things that he\\'ll be dealing with on so many fronts. Like, how to deal with China is going to be one of the biggest challenges of the Biden administration. There are so many fronts where there is going to be a lot of tension with China. There\\'s going to be a lot of confrontation with China. But this is an area where if Biden wants to try and help the world to get to the goals that are needed, China needs to be on board and working with the U.S. to stop producing new coal power plants, among many other things.So that\\'s going to be a top area. And that\\'s why you have, you know, Secretary of State Tony Blinken, if he\\'s confirmed, but also a former secretary of state, John Kerry, who\\'s going to focus only on this. And we can expect he\\'ll be spending a lot of time talking to Beijing. All right. So it sounds like another tricky thing that the Biden administration is going to have to tackle. And the fate of the world is in play, so we\\'ll just... ...Leave it there. Just a low-key thing, you know? All right.Jennifer, thank you so much for taking time out and talking to us. Thank you. And so we\\'re going to take a quick break, and then we\\'re going to talk about health policy under Biden.And we\\'re back. We\\'re joined by health reporter Selena Simmons-Duffin. How are you? I\\'m OK. I mean, I\\'m talking to two people with little kids... So I think we\\'re all in pretty much the same boatyard. Yeah, so we may hear some kids in the background. And they may not be mine this time but probably are. We\\'ve got some \"Bluey\" going in the background here, and it\\'s working well. Perfect.  So obviously, the reason why we\\'re home is because there\\'s this huge pandemic, and managing that will define the first big part of Biden\\'s presidency. But health care is much more than just the pandemic. There\\'s so much more in the ways that it touches our lives, so I thought it would be worth just kind of diving into that here. Let\\'s start with, who is on the team for Biden for health care? Well, he\\'s picked Xavier Becerra, who\\'s the attorney general for California, as his head of HHS, the Department of Health and Human Services. And he has Dr. Rochelle Walensky coming in to run CDC. She is an infectious disease doctor who\\'s worked on HIV for most of her career. They\\'re really well-respected. Xavier Becerra doesn\\'t have a health care background, but he\\'s come up on my beat a lot because he sued the Trump administration many times over the ACA. And the ACA is the Affordable Care Act. Yes. He also has a really star-studded team to advise him on COVID. His picks so far on the health care front have been pretty well-received. I think that his HHS pick, Xavier Becerra, might face some resistance in the Senate, but we\\'ll have to see about that. But the big thing with Becerra is that - you know, as you mentioned, that he has, you know, done lawsuits kind of protecting the Affordable Care Act. How is Biden thinking about, you know, that law, that signature law going forward? You know, it\\'s interesting. This was, like, the dominant issue of that enormous Democratic primary. We spent all of 2019, particularly after every debate, talking endlessly about, you know, candidates who wanted to do away with it, to have a whole public option, government-run health care-type program, Biden defending the Affordable Care Act. That, because of so many things that have happened - obviously, the pandemic being first among them - changing the ACA has kind of dropped from that very top tier of things that Biden wants to deal with. It\\'s still important, but there\\'s other stuff in the way as well.Obviously, if the court did throw part of that out, that would change things. And Biden would be trying to pass a new - some sort of new ACA with Congress, a evenly divided Congress no matter what happens in Georgia. But I think it\\'s fair to say that even just being an administration that values the ACA, that values the exchanges - that will make a big difference. Like, I\\'m thinking, Selena, of how the Trump administration just, like, by and large didn\\'t even advertise the markets when there was open enrollment to try and, you know, increase enrollment in them. Yeah. They slashed funding for advertising open enrollment by 90% and also cut back on the support that\\'s available for people who are signing up. There were free navigators who would help people who were trying to pick a plan kind of go through that process. It\\'s really complicated. It\\'s hard to pick an insurance plan. And so having people available free of charge to kind of guide people through it was really key. And Biden has said that he would restore that funding and really support the ACA. Outside of even just the Affordable Care Act, you now have, you know, other issues like the cost of medication, things of that nature. What can be done, you know, via executive action on this issue? - because this is an area where the Trump administration was very active, right? Well, the Trump administration tried. I mean, Trump - President Trump really railed against how Americans pay more for their drugs than people in other countries do. And that\\'s true. I mean, we pay a lot for prescription drugs. The Democrats put their flag in the sand on this issue by passing H.R.3 last year. It gave the secretary of HHS the ability to negotiate over the cost of drugs in Medicare. And that would have a huge impact on the whole market beyond people in Medicare if the government was able to say, you know, we have leverage; we have buying power, to the pharmaceutical industry. We want to pay this for this drug and not more.Republicans say, that is government price-setting. That\\'s not negotiation, and it\\'s a nonstarter. Both Biden and Trump have expressed support for importing drugs from Canada, but that\\'s another idea that just seems like kind of a weird workaround for actually dealing with what the costs of drugs are here and working with drug companies to bring the costs down.And I\\'m interested to see how this all plays out in the context of COVID because you have pharmaceutical companies - I mean, Moderna and Pfizer are on the tips of everyone\\'s tongues because they are the creators of these vaccines that are hopefully going to end the pandemic. Pharma had a really, really bad reputation before the pandemic. I mean, the public perceptions of the pharmaceutical industry was just in the pits. And so I\\'m really interested to see how the pandemic changes the pharmaceutical industry\\'s leverage to be able to push back on some of these ideas. All right. So let\\'s leave it there. Selena, thank you so much for stopping by virtually or whatever this is called now. Thanks for having me. Yes. Thank you for sharing all your insights. I\\'m Ayesha Rascoe. I cover the White House. And I\\'m Scott Detrow. I cover the Biden transition. Thank you for listening to the NPR POLITICS PODCAST.'"
      ]
     },
     "execution_count": 54,
     "metadata": {},
     "output_type": "execute_result"
    }
   ],
   "source": [
    "curr_row[\"cleaned_transcripts\"]"
   ]
  },
  {
   "cell_type": "code",
   "execution_count": 55,
   "id": "ed8d8dba",
   "metadata": {},
   "outputs": [
    {
     "data": {
      "text/plain": [
       "\"Joe Biden's climate policy will look a lot different to that of President Trump's... and President Obama's. And, on top of responding to the pandemic, the president-elect will have to wrangle all of the other problems endemic in the American healthcare system.\""
      ]
     },
     "execution_count": 55,
     "metadata": {},
     "output_type": "execute_result"
    }
   ],
   "source": [
    "curr_row[\"cleaned_description_x\"]"
   ]
  },
  {
   "cell_type": "code",
   "execution_count": 56,
   "id": "e537dc3b",
   "metadata": {
    "scrolled": true
   },
   "outputs": [
    {
     "data": {
      "text/plain": [
       "\" Hey there. It's Danielle Kurtzleben. And before we start the show, we want to ask you to support your local NPR station. By supporting them, you're supporting all of us on this podcast. All of our lives were upended this year, and we at NPR and at all of your local stations have tried to cut through the noise to make sure you know the facts about the election, the coronavirus and so many other stories. So if you've got some dollars to spare, head to donate.npr.org/politics to get started. Again, that's donate.npr.org/politics. And thank you.  Hey there. It's the NPR POLITICS PODCAST. I'm Ayesha Rascoe. I cover the White House. You know, there was the Paris climate accord, of course, and then rules to bring down carbon emissions in power plants, to make cars more fuel-efficient, to, you know, restrict development of wetlands and so forth. You have seen countries, cities, states, businesses, industry, utility companies establish these incredibly ambitious goals of not only reducing carbon emissions but trying to go for zero carbon in the next few decades. And Janet Yellen, his pick for Treasury secretary - she has spoken out about the need to reduce carbon emissions. But this is an area where if Biden wants to try and help the world to get to the goals that are needed, China needs to be on board and working with the U.S. to stop producing new coal power plants, among many other things. That, because of so many things that have happened - obviously, the pandemic being first among them - changing the ACA has kind of dropped from that very top tier of things that Biden wants to deal with. Obviously, if the court did throw part of that out, that would change things. Outside of even just the Affordable Care Act, you now have, you know, other issues like the cost of medication, things of that nature. Both Biden and Trump have expressed support for importing drugs from Canada, but that's another idea that just seems like kind of a weird workaround for actually dealing with what the costs of drugs are here and working with drug companies to bring the costs down.\""
      ]
     },
     "execution_count": 56,
     "metadata": {},
     "output_type": "execute_result"
    }
   ],
   "source": [
    "curr_row[\"ext_summaries_x\"]"
   ]
  },
  {
   "cell_type": "code",
   "execution_count": 57,
   "id": "7428b5d1",
   "metadata": {},
   "outputs": [
    {
     "data": {
      "text/plain": [
       "'[\" President-elect Joe Biden has said he wants to help the United States meet the goals of the Paris climate accord, but China needs to work with the U.S. to meet those goals. Plus, Biden\\'s pick for Treasury Secretary Janet Yellen has spoken out about the need to reduce carbon emissions, and the president-elect\\'s choice for vice president has expressed support for importing drugs from Canada. \"]'"
      ]
     },
     "execution_count": 57,
     "metadata": {},
     "output_type": "execute_result"
    }
   ],
   "source": [
    "curr_row[\"final_summary\"]"
   ]
  },
  {
   "cell_type": "code",
   "execution_count": 66,
   "id": "b00916d9",
   "metadata": {},
   "outputs": [],
   "source": [
    "test_episodes = full_test_data[\"title\"]\n",
    "base_and_test = full_baseline_data[full_baseline_data[\"title\"].isin(test_episodes)].reset_index(drop = True)\n"
   ]
  },
  {
   "cell_type": "code",
   "execution_count": 67,
   "id": "3fc9b672",
   "metadata": {},
   "outputs": [
    {
     "data": {
      "text/plain": [
       "211"
      ]
     },
     "execution_count": 67,
     "metadata": {},
     "output_type": "execute_result"
    }
   ],
   "source": [
    "len(base_and_test)"
   ]
  },
  {
   "cell_type": "code",
   "execution_count": null,
   "id": "3a112c50",
   "metadata": {},
   "outputs": [],
   "source": []
  },
  {
   "cell_type": "code",
   "execution_count": 102,
   "id": "c90ac9c6",
   "metadata": {},
   "outputs": [
    {
     "data": {
      "text/plain": [
       "title                                            Weekly Roundup: May 7th\n",
       "rouge 1                Score(precision=0.4507042253521127, recall=0.2...\n",
       "rouge 2                Score(precision=0.08571428571428572, recall=0....\n",
       "rouge L sum            Score(precision=0.23943661971830985, recall=0....\n",
       "summary                Wyoming Rep. Liz Cheney has broken with the re...\n",
       "link                   https://www.npr.org/2021/05/07/994754688/liz-c...\n",
       "description            Wyoming Representative Liz Cheney currently si...\n",
       "duration                                                          1543.0\n",
       "podcast_id                                                     994754688\n",
       "transcript             [<div aria-label=\"Transcript\" class=\"transcrip...\n",
       "cleaned_transcripts     Hi, this is Natalie (ph) from Davenport, Fla....\n",
       "cleaned_description    Wyoming Representative Liz Cheney currently si...\n",
       "ext_summaries          She's a staunch conservative, but she's broken...\n",
       "ext_rouge              {'rouge1': Score(precision=0.647887323943662, ...\n",
       "Name: 22, dtype: object"
      ]
     },
     "execution_count": 102,
     "metadata": {},
     "output_type": "execute_result"
    }
   ],
   "source": [
    "curr_row = base_and_test.iloc[22]\n",
    "curr_row"
   ]
  },
  {
   "cell_type": "code",
   "execution_count": 103,
   "id": "71b6f716",
   "metadata": {},
   "outputs": [
    {
     "data": {
      "text/plain": [
       "'Weekly Roundup: May 7th'"
      ]
     },
     "execution_count": 103,
     "metadata": {},
     "output_type": "execute_result"
    }
   ],
   "source": [
    "curr_row[\"title\"]"
   ]
  },
  {
   "cell_type": "code",
   "execution_count": 104,
   "id": "9468319c",
   "metadata": {},
   "outputs": [
    {
     "data": {
      "text/plain": [
       "\"Wyoming Rep. Liz Cheney has broken with the rest of her party on one big thing: Joe Biden won the election and former President Trump did not. She has said that she believes he should play no role in the future of the GOP. Elise Stefanik has played a major role not just in recruiting more women to run, but raising money for them. She's really won over some members of the Freedom Caucus, even though their politics are very different. Biden introduced a big package to put 11 million undocumented immigrants on a path to citizenship. He also established a task force to reunite families separated at the border.\""
      ]
     },
     "execution_count": 104,
     "metadata": {},
     "output_type": "execute_result"
    }
   ],
   "source": [
    "curr_row[\"summary\"]"
   ]
  },
  {
   "cell_type": "code",
   "execution_count": 105,
   "id": "5be3aa36",
   "metadata": {},
   "outputs": [
    {
     "data": {
      "text/html": [
       "<div>\n",
       "<style scoped>\n",
       "    .dataframe tbody tr th:only-of-type {\n",
       "        vertical-align: middle;\n",
       "    }\n",
       "\n",
       "    .dataframe tbody tr th {\n",
       "        vertical-align: top;\n",
       "    }\n",
       "\n",
       "    .dataframe thead th {\n",
       "        text-align: right;\n",
       "    }\n",
       "</style>\n",
       "<table border=\"1\" class=\"dataframe\">\n",
       "  <thead>\n",
       "    <tr style=\"text-align: right;\">\n",
       "      <th></th>\n",
       "      <th>title</th>\n",
       "      <th>ext_summaries_x</th>\n",
       "      <th>cleaned_description_x</th>\n",
       "      <th>final_summary</th>\n",
       "      <th>rouge1 final</th>\n",
       "      <th>rouge2 final</th>\n",
       "      <th>rougeLsum final</th>\n",
       "      <th>link</th>\n",
       "      <th>description</th>\n",
       "      <th>duration</th>\n",
       "      <th>podcast_id</th>\n",
       "      <th>transcript</th>\n",
       "      <th>cleaned_transcripts</th>\n",
       "      <th>cleaned_description_y</th>\n",
       "      <th>ext_summaries_y</th>\n",
       "      <th>ext_rouge</th>\n",
       "    </tr>\n",
       "  </thead>\n",
       "  <tbody>\n",
       "    <tr>\n",
       "      <th>319</th>\n",
       "      <td>Weekly Roundup: May 7th</td>\n",
       "      <td>She's a staunch conservative, but she's broken...</td>\n",
       "      <td>Wyoming Representative Liz Cheney currently si...</td>\n",
       "      <td>[\" Congresswoman Liz Cheney, R-Wyoming, has be...</td>\n",
       "      <td>0.439024</td>\n",
       "      <td>0.082645</td>\n",
       "      <td>0.260163</td>\n",
       "      <td>https://www.npr.org/2021/05/07/994754688/liz-c...</td>\n",
       "      <td>Wyoming Representative Liz Cheney currently si...</td>\n",
       "      <td>1543.0</td>\n",
       "      <td>994754688</td>\n",
       "      <td>[&lt;div aria-label=\"Transcript\" class=\"transcrip...</td>\n",
       "      <td>Hi, this is Natalie (ph) from Davenport, Fla....</td>\n",
       "      <td>Wyoming Representative Liz Cheney currently si...</td>\n",
       "      <td>She's a staunch conservative, but she's broken...</td>\n",
       "      <td>{'rouge1': Score(precision=0.647887323943662, ...</td>\n",
       "    </tr>\n",
       "  </tbody>\n",
       "</table>\n",
       "</div>"
      ],
      "text/plain": [
       "                       title  \\\n",
       "319  Weekly Roundup: May 7th   \n",
       "\n",
       "                                       ext_summaries_x  \\\n",
       "319  She's a staunch conservative, but she's broken...   \n",
       "\n",
       "                                 cleaned_description_x  \\\n",
       "319  Wyoming Representative Liz Cheney currently si...   \n",
       "\n",
       "                                         final_summary  rouge1 final  \\\n",
       "319  [\" Congresswoman Liz Cheney, R-Wyoming, has be...      0.439024   \n",
       "\n",
       "     rouge2 final  rougeLsum final  \\\n",
       "319      0.082645         0.260163   \n",
       "\n",
       "                                                  link  \\\n",
       "319  https://www.npr.org/2021/05/07/994754688/liz-c...   \n",
       "\n",
       "                                           description  duration  podcast_id  \\\n",
       "319  Wyoming Representative Liz Cheney currently si...    1543.0   994754688   \n",
       "\n",
       "                                            transcript  \\\n",
       "319  [<div aria-label=\"Transcript\" class=\"transcrip...   \n",
       "\n",
       "                                   cleaned_transcripts  \\\n",
       "319   Hi, this is Natalie (ph) from Davenport, Fla....   \n",
       "\n",
       "                                 cleaned_description_y  \\\n",
       "319  Wyoming Representative Liz Cheney currently si...   \n",
       "\n",
       "                                       ext_summaries_y  \\\n",
       "319  She's a staunch conservative, but she's broken...   \n",
       "\n",
       "                                             ext_rouge  \n",
       "319  {'rouge1': Score(precision=0.647887323943662, ...  "
      ]
     },
     "execution_count": 105,
     "metadata": {},
     "output_type": "execute_result"
    }
   ],
   "source": [
    "test_row = full_test_data[full_test_data[\"title\"] == curr_row[\"title\"]]\n",
    "test_row"
   ]
  },
  {
   "cell_type": "code",
   "execution_count": 106,
   "id": "d38424d4",
   "metadata": {
    "scrolled": true
   },
   "outputs": [
    {
     "data": {
      "text/plain": [
       "\"Wyoming Representative Liz Cheney currently sits as the third highest ranking Republican in the House, but that may not last long. She's at odds with her party over one thing: that former President did in fact lose the election. A rising star and Trump loyalist is now poised to take her position. Plus, as Biden punts on immigration reform, activists worry that no substantial change will come during his term.\""
      ]
     },
     "execution_count": 106,
     "metadata": {},
     "output_type": "execute_result"
    }
   ],
   "source": [
    "test_row[\"cleaned_description_x\"][319]"
   ]
  },
  {
   "cell_type": "code",
   "execution_count": 107,
   "id": "1a36f788",
   "metadata": {},
   "outputs": [
    {
     "data": {
      "text/plain": [
       "'[\" Congresswoman Liz Cheney, R-Wyoming, has been openly critical of former President Trump for months. She\\'s a staunch conservative, but she\\'s broken with the rest of her party on one big thing, and that\\'s the fact that Joe Biden won the election and former President Donald Trump did not. \"]'"
      ]
     },
     "execution_count": 107,
     "metadata": {},
     "output_type": "execute_result"
    }
   ],
   "source": [
    "test_row[\"final_summary\"][319]"
   ]
  },
  {
   "cell_type": "code",
   "execution_count": null,
   "id": "ded0a10c",
   "metadata": {},
   "outputs": [],
   "source": []
  }
 ],
 "metadata": {
  "kernelspec": {
   "display_name": "Python 3 (ipykernel)",
   "language": "python",
   "name": "python3"
  },
  "language_info": {
   "codemirror_mode": {
    "name": "ipython",
    "version": 3
   },
   "file_extension": ".py",
   "mimetype": "text/x-python",
   "name": "python",
   "nbconvert_exporter": "python",
   "pygments_lexer": "ipython3",
   "version": "3.8.8"
  }
 },
 "nbformat": 4,
 "nbformat_minor": 5
}
