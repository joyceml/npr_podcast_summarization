{
 "cells": [
  {
   "cell_type": "code",
   "execution_count": 1,
   "id": "8e7e0326",
   "metadata": {},
   "outputs": [],
   "source": [
    "import numpy as np\n",
    "import pandas as pd"
   ]
  },
  {
   "cell_type": "code",
   "execution_count": 21,
   "id": "1f2f09cd",
   "metadata": {},
   "outputs": [],
   "source": [
    "final_train_df = pd.read_csv(\"all_train_final.csv\", index_col = 0)\n",
    "final_test_df = pd.read_csv(\"test_final_summaries.csv\", index_col = 0)\n",
    "baseline_df = pd.read_csv(\"all_summaries.csv\", index_col = 0)\n",
    "gold_df = pd.read_csv(\"gold_final.csv\", index_col = 0)"
   ]
  },
  {
   "cell_type": "code",
   "execution_count": 7,
   "id": "35238287",
   "metadata": {},
   "outputs": [
    {
     "data": {
      "text/html": [
       "<div>\n",
       "<style scoped>\n",
       "    .dataframe tbody tr th:only-of-type {\n",
       "        vertical-align: middle;\n",
       "    }\n",
       "\n",
       "    .dataframe tbody tr th {\n",
       "        vertical-align: top;\n",
       "    }\n",
       "\n",
       "    .dataframe thead th {\n",
       "        text-align: right;\n",
       "    }\n",
       "</style>\n",
       "<table border=\"1\" class=\"dataframe\">\n",
       "  <thead>\n",
       "    <tr style=\"text-align: right;\">\n",
       "      <th></th>\n",
       "      <th>title</th>\n",
       "      <th>link</th>\n",
       "      <th>description</th>\n",
       "      <th>duration</th>\n",
       "      <th>podcast_id</th>\n",
       "      <th>transcript</th>\n",
       "      <th>cleaned_transcripts</th>\n",
       "      <th>cleaned_description</th>\n",
       "      <th>ext_summaries</th>\n",
       "      <th>ext_rouge</th>\n",
       "    </tr>\n",
       "  </thead>\n",
       "  <tbody>\n",
       "    <tr>\n",
       "      <th>0</th>\n",
       "      <td>Letter of Unhappiness</td>\n",
       "      <td>https://www.npr.org/2022/03/30/1089668294/lett...</td>\n",
       "      <td>When Naira calls her parents back home in Russ...</td>\n",
       "      <td>950.0</td>\n",
       "      <td>1089668294</td>\n",
       "      <td>[&lt;div aria-label=\"Transcript\" class=\"transcrip...</td>\n",
       "      <td>You're listening to ROUGH TRANSLATION from N...</td>\n",
       "      <td>When Naira calls her parents back home in Russ...</td>\n",
       "      <td>You're listening to ROUGH TRANSLATION from N...</td>\n",
       "      <td>{'rouge1': Score(precision=0.6585365853658537,...</td>\n",
       "    </tr>\n",
       "    <tr>\n",
       "      <th>1</th>\n",
       "      <td>The Culture Front</td>\n",
       "      <td>https://www.npr.org/2022/03/15/1086679997/the-...</td>\n",
       "      <td>When protecting a language is used as justific...</td>\n",
       "      <td>2436.0</td>\n",
       "      <td>1086679997</td>\n",
       "      <td>[&lt;div aria-label=\"Transcript\" class=\"transcrip...</td>\n",
       "      <td>You're listening to ROUGH TRANSLATION from N...</td>\n",
       "      <td>When protecting a language is used as justific...</td>\n",
       "      <td>You're listening to ROUGH TRANSLATION from N...</td>\n",
       "      <td>{'rouge1': Score(precision=0.6944444444444444,...</td>\n",
       "    </tr>\n",
       "    <tr>\n",
       "      <th>2</th>\n",
       "      <td>Fighting Words In Ukraine</td>\n",
       "      <td>https://www.npr.org/2022/03/02/1083960666/figh...</td>\n",
       "      <td>Vladimir Putin joined the KGB at age 23. Ukrai...</td>\n",
       "      <td>1883.0</td>\n",
       "      <td>1083960666</td>\n",
       "      <td>[&lt;div aria-label=\"Transcript\" class=\"transcrip...</td>\n",
       "      <td>You're listening to ROUGH TRANSLATION from N...</td>\n",
       "      <td>Vladimir Putin joined the KGB at age 23. Ukrai...</td>\n",
       "      <td>So watching the news out of Ukraine this week,...</td>\n",
       "      <td>{'rouge1': Score(precision=0.625, recall=0.056...</td>\n",
       "    </tr>\n",
       "    <tr>\n",
       "      <th>3</th>\n",
       "      <td>May We Have This Dance?</td>\n",
       "      <td>https://www.npr.org/2021/12/22/1066965712/may-...</td>\n",
       "      <td>A jazz dance born in Harlem in the 1920s ends ...</td>\n",
       "      <td>2630.0</td>\n",
       "      <td>1066965712</td>\n",
       "      <td>[&lt;div aria-label=\"Transcript\" class=\"transcrip...</td>\n",
       "      <td>This is ROUGH TRANSLATION from NPR. I grew u...</td>\n",
       "      <td>A jazz dance born in Harlem in the 1920s ends ...</td>\n",
       "      <td>It was called Lindy Hop. LaTasha Barnes, who f...</td>\n",
       "      <td>{'rouge1': Score(precision=0.5714285714285714,...</td>\n",
       "    </tr>\n",
       "    <tr>\n",
       "      <th>4</th>\n",
       "      <td>Moms In Translation</td>\n",
       "      <td>https://www.npr.org/2021/12/14/1064250980/moms...</td>\n",
       "      <td>An Irish journalist discovers she belongs in a...</td>\n",
       "      <td>2519.0</td>\n",
       "      <td>1064250980</td>\n",
       "      <td>[&lt;div aria-label=\"Transcript\" class=\"transcrip...</td>\n",
       "      <td>Hey. It's Gregory from ROUGH TRANSLATION. Ju...</td>\n",
       "      <td>An Irish journalist discovers she belongs in a...</td>\n",
       "      <td>Hey. It's Gregory from ROUGH TRANSLATION. In...</td>\n",
       "      <td>{'rouge1': Score(precision=0.5483870967741935,...</td>\n",
       "    </tr>\n",
       "  </tbody>\n",
       "</table>\n",
       "</div>"
      ],
      "text/plain": [
       "                       title  \\\n",
       "0      Letter of Unhappiness   \n",
       "1          The Culture Front   \n",
       "2  Fighting Words In Ukraine   \n",
       "3    May We Have This Dance?   \n",
       "4        Moms In Translation   \n",
       "\n",
       "                                                link  \\\n",
       "0  https://www.npr.org/2022/03/30/1089668294/lett...   \n",
       "1  https://www.npr.org/2022/03/15/1086679997/the-...   \n",
       "2  https://www.npr.org/2022/03/02/1083960666/figh...   \n",
       "3  https://www.npr.org/2021/12/22/1066965712/may-...   \n",
       "4  https://www.npr.org/2021/12/14/1064250980/moms...   \n",
       "\n",
       "                                         description  duration  podcast_id  \\\n",
       "0  When Naira calls her parents back home in Russ...     950.0  1089668294   \n",
       "1  When protecting a language is used as justific...    2436.0  1086679997   \n",
       "2  Vladimir Putin joined the KGB at age 23. Ukrai...    1883.0  1083960666   \n",
       "3  A jazz dance born in Harlem in the 1920s ends ...    2630.0  1066965712   \n",
       "4  An Irish journalist discovers she belongs in a...    2519.0  1064250980   \n",
       "\n",
       "                                          transcript  \\\n",
       "0  [<div aria-label=\"Transcript\" class=\"transcrip...   \n",
       "1  [<div aria-label=\"Transcript\" class=\"transcrip...   \n",
       "2  [<div aria-label=\"Transcript\" class=\"transcrip...   \n",
       "3  [<div aria-label=\"Transcript\" class=\"transcrip...   \n",
       "4  [<div aria-label=\"Transcript\" class=\"transcrip...   \n",
       "\n",
       "                                 cleaned_transcripts  \\\n",
       "0    You're listening to ROUGH TRANSLATION from N...   \n",
       "1    You're listening to ROUGH TRANSLATION from N...   \n",
       "2    You're listening to ROUGH TRANSLATION from N...   \n",
       "3    This is ROUGH TRANSLATION from NPR. I grew u...   \n",
       "4    Hey. It's Gregory from ROUGH TRANSLATION. Ju...   \n",
       "\n",
       "                                 cleaned_description  \\\n",
       "0  When Naira calls her parents back home in Russ...   \n",
       "1  When protecting a language is used as justific...   \n",
       "2  Vladimir Putin joined the KGB at age 23. Ukrai...   \n",
       "3  A jazz dance born in Harlem in the 1920s ends ...   \n",
       "4  An Irish journalist discovers she belongs in a...   \n",
       "\n",
       "                                       ext_summaries  \\\n",
       "0    You're listening to ROUGH TRANSLATION from N...   \n",
       "1    You're listening to ROUGH TRANSLATION from N...   \n",
       "2  So watching the news out of Ukraine this week,...   \n",
       "3  It was called Lindy Hop. LaTasha Barnes, who f...   \n",
       "4    Hey. It's Gregory from ROUGH TRANSLATION. In...   \n",
       "\n",
       "                                           ext_rouge  \n",
       "0  {'rouge1': Score(precision=0.6585365853658537,...  \n",
       "1  {'rouge1': Score(precision=0.6944444444444444,...  \n",
       "2  {'rouge1': Score(precision=0.625, recall=0.056...  \n",
       "3  {'rouge1': Score(precision=0.5714285714285714,...  \n",
       "4  {'rouge1': Score(precision=0.5483870967741935,...  "
      ]
     },
     "execution_count": 7,
     "metadata": {},
     "output_type": "execute_result"
    }
   ],
   "source": [
    "ext_df = pd.read_csv(\"extractive_summaries_v2.csv\", index_col = 0)\n",
    "ext_df.head()"
   ]
  },
  {
   "cell_type": "code",
   "execution_count": 25,
   "id": "8a45e92e",
   "metadata": {
    "scrolled": true
   },
   "outputs": [],
   "source": [
    "full_train_data = pd.merge(final_train_df,ext_df,left_on='title',right_on='title')\n",
    "full_test_data = pd.merge(final_test_df,ext_df,left_on='title',right_on='title')\n",
    "full_baseline_data = pd.merge(baseline_df, ext_df, left_on='title', right_on='title')"
   ]
  },
  {
   "cell_type": "code",
   "execution_count": 26,
   "id": "5fdc0cd1",
   "metadata": {},
   "outputs": [],
   "source": [
    "full_train_data.to_csv(\"full_train_data.csv\")\n",
    "full_test_data.to_csv(\"full_test_data.csv\")\n",
    "full_baseline_data.to_csv(\"full_baseline_data.csv\")"
   ]
  },
  {
   "cell_type": "markdown",
   "id": "f09fe5d9",
   "metadata": {},
   "source": [
    "## Example 1"
   ]
  },
  {
   "cell_type": "code",
   "execution_count": 52,
   "id": "44460d8c",
   "metadata": {},
   "outputs": [
    {
     "data": {
      "text/plain": [
       "title                    What Will Climate And Health Policy Look Like ...\n",
       "ext_summaries_x           Hey there. It's Danielle Kurtzleben. And befo...\n",
       "cleaned_description_x    Joe Biden's climate policy will look a lot dif...\n",
       "final_summary            [\" President-elect Joe Biden has said he wants...\n",
       "rouge1 final                                                      0.327586\n",
       "rouge2 final                                                      0.087719\n",
       "rougeLsum final                                                   0.172414\n",
       "link                     https://www.npr.org/2020/12/29/951177417/what-...\n",
       "description              Joe Biden's climate policy will look a lot dif...\n",
       "duration                                                             915.0\n",
       "podcast_id                                                       951177417\n",
       "transcript               [<div aria-label=\"Transcript\" class=\"transcrip...\n",
       "cleaned_transcripts       Hey there. It's Danielle Kurtzleben. And befo...\n",
       "cleaned_description_y    Joe Biden's climate policy will look a lot dif...\n",
       "ext_summaries_y           Hey there. It's Danielle Kurtzleben. And befo...\n",
       "ext_rouge                {'rouge1': Score(precision=0.6086956521739131,...\n",
       "Name: 14, dtype: object"
      ]
     },
     "execution_count": 52,
     "metadata": {},
     "output_type": "execute_result"
    }
   ],
   "source": [
    "curr_row = full_test_data.iloc[14]\n",
    "curr_row"
   ]
  },
  {
   "cell_type": "code",
   "execution_count": 53,
   "id": "bd81d9f0",
   "metadata": {},
   "outputs": [
    {
     "data": {
      "text/plain": [
       "'What Will Climate And Health Policy Look Like Under Joe Biden?'"
      ]
     },
     "execution_count": 53,
     "metadata": {},
     "output_type": "execute_result"
    }
   ],
   "source": [
    "curr_row[\"title\"]"
   ]
  },
  {
   "cell_type": "code",
   "execution_count": 55,
   "id": "ed8d8dba",
   "metadata": {},
   "outputs": [
    {
     "data": {
      "text/plain": [
       "\"Joe Biden's climate policy will look a lot different to that of President Trump's... and President Obama's. And, on top of responding to the pandemic, the president-elect will have to wrangle all of the other problems endemic in the American healthcare system.\""
      ]
     },
     "execution_count": 55,
     "metadata": {},
     "output_type": "execute_result"
    }
   ],
   "source": [
    "curr_row[\"cleaned_description_x\"]"
   ]
  },
  {
   "cell_type": "code",
   "execution_count": 57,
   "id": "7428b5d1",
   "metadata": {},
   "outputs": [
    {
     "data": {
      "text/plain": [
       "'[\" President-elect Joe Biden has said he wants to help the United States meet the goals of the Paris climate accord, but China needs to work with the U.S. to meet those goals. Plus, Biden\\'s pick for Treasury Secretary Janet Yellen has spoken out about the need to reduce carbon emissions, and the president-elect\\'s choice for vice president has expressed support for importing drugs from Canada. \"]'"
      ]
     },
     "execution_count": 57,
     "metadata": {},
     "output_type": "execute_result"
    }
   ],
   "source": [
    "curr_row[\"final_summary\"]"
   ]
  },
  {
   "cell_type": "code",
   "execution_count": 66,
   "id": "b00916d9",
   "metadata": {},
   "outputs": [],
   "source": [
    "test_episodes = full_test_data[\"title\"]\n",
    "base_and_test = full_baseline_data[full_baseline_data[\"title\"].isin(test_episodes)].reset_index(drop = True)\n"
   ]
  },
  {
   "cell_type": "markdown",
   "id": "5927e3e7",
   "metadata": {},
   "source": [
    "## Example 2"
   ]
  },
  {
   "cell_type": "code",
   "execution_count": 102,
   "id": "c90ac9c6",
   "metadata": {},
   "outputs": [
    {
     "data": {
      "text/plain": [
       "title                                            Weekly Roundup: May 7th\n",
       "rouge 1                Score(precision=0.4507042253521127, recall=0.2...\n",
       "rouge 2                Score(precision=0.08571428571428572, recall=0....\n",
       "rouge L sum            Score(precision=0.23943661971830985, recall=0....\n",
       "summary                Wyoming Rep. Liz Cheney has broken with the re...\n",
       "link                   https://www.npr.org/2021/05/07/994754688/liz-c...\n",
       "description            Wyoming Representative Liz Cheney currently si...\n",
       "duration                                                          1543.0\n",
       "podcast_id                                                     994754688\n",
       "transcript             [<div aria-label=\"Transcript\" class=\"transcrip...\n",
       "cleaned_transcripts     Hi, this is Natalie (ph) from Davenport, Fla....\n",
       "cleaned_description    Wyoming Representative Liz Cheney currently si...\n",
       "ext_summaries          She's a staunch conservative, but she's broken...\n",
       "ext_rouge              {'rouge1': Score(precision=0.647887323943662, ...\n",
       "Name: 22, dtype: object"
      ]
     },
     "execution_count": 102,
     "metadata": {},
     "output_type": "execute_result"
    }
   ],
   "source": [
    "curr_row = base_and_test.iloc[22]\n",
    "curr_row"
   ]
  },
  {
   "cell_type": "code",
   "execution_count": 103,
   "id": "71b6f716",
   "metadata": {},
   "outputs": [
    {
     "data": {
      "text/plain": [
       "'Weekly Roundup: May 7th'"
      ]
     },
     "execution_count": 103,
     "metadata": {},
     "output_type": "execute_result"
    }
   ],
   "source": [
    "curr_row[\"title\"]"
   ]
  },
  {
   "cell_type": "code",
   "execution_count": 104,
   "id": "9468319c",
   "metadata": {},
   "outputs": [
    {
     "data": {
      "text/plain": [
       "\"Wyoming Rep. Liz Cheney has broken with the rest of her party on one big thing: Joe Biden won the election and former President Trump did not. She has said that she believes he should play no role in the future of the GOP. Elise Stefanik has played a major role not just in recruiting more women to run, but raising money for them. She's really won over some members of the Freedom Caucus, even though their politics are very different. Biden introduced a big package to put 11 million undocumented immigrants on a path to citizenship. He also established a task force to reunite families separated at the border.\""
      ]
     },
     "execution_count": 104,
     "metadata": {},
     "output_type": "execute_result"
    }
   ],
   "source": [
    "curr_row[\"summary\"]"
   ]
  },
  {
   "cell_type": "code",
   "execution_count": 105,
   "id": "5be3aa36",
   "metadata": {},
   "outputs": [
    {
     "data": {
      "text/html": [
       "<div>\n",
       "<style scoped>\n",
       "    .dataframe tbody tr th:only-of-type {\n",
       "        vertical-align: middle;\n",
       "    }\n",
       "\n",
       "    .dataframe tbody tr th {\n",
       "        vertical-align: top;\n",
       "    }\n",
       "\n",
       "    .dataframe thead th {\n",
       "        text-align: right;\n",
       "    }\n",
       "</style>\n",
       "<table border=\"1\" class=\"dataframe\">\n",
       "  <thead>\n",
       "    <tr style=\"text-align: right;\">\n",
       "      <th></th>\n",
       "      <th>title</th>\n",
       "      <th>ext_summaries_x</th>\n",
       "      <th>cleaned_description_x</th>\n",
       "      <th>final_summary</th>\n",
       "      <th>rouge1 final</th>\n",
       "      <th>rouge2 final</th>\n",
       "      <th>rougeLsum final</th>\n",
       "      <th>link</th>\n",
       "      <th>description</th>\n",
       "      <th>duration</th>\n",
       "      <th>podcast_id</th>\n",
       "      <th>transcript</th>\n",
       "      <th>cleaned_transcripts</th>\n",
       "      <th>cleaned_description_y</th>\n",
       "      <th>ext_summaries_y</th>\n",
       "      <th>ext_rouge</th>\n",
       "    </tr>\n",
       "  </thead>\n",
       "  <tbody>\n",
       "    <tr>\n",
       "      <th>319</th>\n",
       "      <td>Weekly Roundup: May 7th</td>\n",
       "      <td>She's a staunch conservative, but she's broken...</td>\n",
       "      <td>Wyoming Representative Liz Cheney currently si...</td>\n",
       "      <td>[\" Congresswoman Liz Cheney, R-Wyoming, has be...</td>\n",
       "      <td>0.439024</td>\n",
       "      <td>0.082645</td>\n",
       "      <td>0.260163</td>\n",
       "      <td>https://www.npr.org/2021/05/07/994754688/liz-c...</td>\n",
       "      <td>Wyoming Representative Liz Cheney currently si...</td>\n",
       "      <td>1543.0</td>\n",
       "      <td>994754688</td>\n",
       "      <td>[&lt;div aria-label=\"Transcript\" class=\"transcrip...</td>\n",
       "      <td>Hi, this is Natalie (ph) from Davenport, Fla....</td>\n",
       "      <td>Wyoming Representative Liz Cheney currently si...</td>\n",
       "      <td>She's a staunch conservative, but she's broken...</td>\n",
       "      <td>{'rouge1': Score(precision=0.647887323943662, ...</td>\n",
       "    </tr>\n",
       "  </tbody>\n",
       "</table>\n",
       "</div>"
      ],
      "text/plain": [
       "                       title  \\\n",
       "319  Weekly Roundup: May 7th   \n",
       "\n",
       "                                       ext_summaries_x  \\\n",
       "319  She's a staunch conservative, but she's broken...   \n",
       "\n",
       "                                 cleaned_description_x  \\\n",
       "319  Wyoming Representative Liz Cheney currently si...   \n",
       "\n",
       "                                         final_summary  rouge1 final  \\\n",
       "319  [\" Congresswoman Liz Cheney, R-Wyoming, has be...      0.439024   \n",
       "\n",
       "     rouge2 final  rougeLsum final  \\\n",
       "319      0.082645         0.260163   \n",
       "\n",
       "                                                  link  \\\n",
       "319  https://www.npr.org/2021/05/07/994754688/liz-c...   \n",
       "\n",
       "                                           description  duration  podcast_id  \\\n",
       "319  Wyoming Representative Liz Cheney currently si...    1543.0   994754688   \n",
       "\n",
       "                                            transcript  \\\n",
       "319  [<div aria-label=\"Transcript\" class=\"transcrip...   \n",
       "\n",
       "                                   cleaned_transcripts  \\\n",
       "319   Hi, this is Natalie (ph) from Davenport, Fla....   \n",
       "\n",
       "                                 cleaned_description_y  \\\n",
       "319  Wyoming Representative Liz Cheney currently si...   \n",
       "\n",
       "                                       ext_summaries_y  \\\n",
       "319  She's a staunch conservative, but she's broken...   \n",
       "\n",
       "                                             ext_rouge  \n",
       "319  {'rouge1': Score(precision=0.647887323943662, ...  "
      ]
     },
     "execution_count": 105,
     "metadata": {},
     "output_type": "execute_result"
    }
   ],
   "source": [
    "test_row = full_test_data[full_test_data[\"title\"] == curr_row[\"title\"]]\n",
    "test_row"
   ]
  },
  {
   "cell_type": "code",
   "execution_count": 106,
   "id": "d38424d4",
   "metadata": {
    "scrolled": true
   },
   "outputs": [
    {
     "data": {
      "text/plain": [
       "\"Wyoming Representative Liz Cheney currently sits as the third highest ranking Republican in the House, but that may not last long. She's at odds with her party over one thing: that former President did in fact lose the election. A rising star and Trump loyalist is now poised to take her position. Plus, as Biden punts on immigration reform, activists worry that no substantial change will come during his term.\""
      ]
     },
     "execution_count": 106,
     "metadata": {},
     "output_type": "execute_result"
    }
   ],
   "source": [
    "test_row[\"cleaned_description_x\"][319]"
   ]
  },
  {
   "cell_type": "code",
   "execution_count": 107,
   "id": "1a36f788",
   "metadata": {},
   "outputs": [
    {
     "data": {
      "text/plain": [
       "'[\" Congresswoman Liz Cheney, R-Wyoming, has been openly critical of former President Trump for months. She\\'s a staunch conservative, but she\\'s broken with the rest of her party on one big thing, and that\\'s the fact that Joe Biden won the election and former President Donald Trump did not. \"]'"
      ]
     },
     "execution_count": 107,
     "metadata": {},
     "output_type": "execute_result"
    }
   ],
   "source": [
    "test_row[\"final_summary\"][319]"
   ]
  },
  {
   "cell_type": "code",
   "execution_count": null,
   "id": "ded0a10c",
   "metadata": {},
   "outputs": [],
   "source": []
  }
 ],
 "metadata": {
  "kernelspec": {
   "display_name": "Python 3 (ipykernel)",
   "language": "python",
   "name": "python3"
  },
  "language_info": {
   "codemirror_mode": {
    "name": "ipython",
    "version": 3
   },
   "file_extension": ".py",
   "mimetype": "text/x-python",
   "name": "python",
   "nbconvert_exporter": "python",
   "pygments_lexer": "ipython3",
   "version": "3.8.8"
  }
 },
 "nbformat": 4,
 "nbformat_minor": 5
}
