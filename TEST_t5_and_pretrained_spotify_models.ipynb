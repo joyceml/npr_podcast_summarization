{
 "cells": [
  {
   "cell_type": "code",
   "execution_count": 46,
   "id": "23775d13",
   "metadata": {},
   "outputs": [],
   "source": [
    "import pandas as pd\n",
    "import json\n",
    "import pandas as pd\n",
    "import numpy as np\n",
    "import os\n",
    "import sys\n",
    "import tensorflow as tf\n",
    "from time import time\n",
    "import io\n",
    "import re\n",
    "\n",
    "#import pickle\n",
    "#from csv import reader\n",
    "#import matplotlib.pyplot as plt\n",
    "\n",
    "#from matplotlib import colors\n",
    "#from matplotlib.ticker import PercentFormatter\n",
    "\n",
    "from tensorflow.keras import layers\n",
    "from tensorflow.keras.backend import sparse_categorical_crossentropy\n",
    "from tensorflow.keras.layers import Dense, Flatten\n",
    "\n",
    "from datetime import datetime\n",
    "\n",
    "from collections import defaultdict\n",
    "\n",
    "#!pip install sentencepiece\n",
    "import sentencepiece"
   ]
  },
  {
   "cell_type": "code",
   "execution_count": 47,
   "id": "f7fe156f",
   "metadata": {},
   "outputs": [],
   "source": [
    "#!pip install transformers"
   ]
  },
  {
   "cell_type": "markdown",
   "id": "b743236c",
   "metadata": {},
   "source": [
    "## T5 base model"
   ]
  },
  {
   "cell_type": "markdown",
   "id": "adeb8816",
   "metadata": {},
   "source": [
    "### Helpful links:\n",
    "- https://huggingface.co/docs/transformers/model_doc/t5\n",
    "- https://github.com/datasci-w266/2021-fall-main/blob/master/materials/Bert/BERT_T5_NER_2_3_030521.ipynb"
   ]
  },
  {
   "cell_type": "code",
   "execution_count": 50,
   "id": "734bfe04",
   "metadata": {},
   "outputs": [],
   "source": [
    "from transformers import BertTokenizer, TFBertModel, T5Tokenizer, TFT5ForConditionalGeneration\n"
   ]
  },
  {
   "cell_type": "code",
   "execution_count": 51,
   "id": "d628b594",
   "metadata": {},
   "outputs": [
    {
     "data": {
      "application/vnd.jupyter.widget-view+json": {
       "model_id": "afc5fd51fa3a40e5a74be29a2ad7659f",
       "version_major": 2,
       "version_minor": 0
      },
      "text/plain": [
       "Downloading:   0%|          | 0.00/773k [00:00<?, ?B/s]"
      ]
     },
     "metadata": {},
     "output_type": "display_data"
    },
    {
     "data": {
      "application/vnd.jupyter.widget-view+json": {
       "model_id": "83813fa3ecda497d9d6382a1b65fa934",
       "version_major": 2,
       "version_minor": 0
      },
      "text/plain": [
       "Downloading:   0%|          | 0.00/1.17k [00:00<?, ?B/s]"
      ]
     },
     "metadata": {},
     "output_type": "display_data"
    },
    {
     "data": {
      "application/vnd.jupyter.widget-view+json": {
       "model_id": "716397d967a048c7a5670b31ac0ccd9d",
       "version_major": 2,
       "version_minor": 0
      },
      "text/plain": [
       "Downloading:   0%|          | 0.00/851M [00:00<?, ?B/s]"
      ]
     },
     "metadata": {},
     "output_type": "display_data"
    },
    {
     "name": "stderr",
     "output_type": "stream",
     "text": [
      "All model checkpoint layers were used when initializing TFT5ForConditionalGeneration.\n",
      "\n",
      "All the layers of TFT5ForConditionalGeneration were initialized from the model checkpoint at t5-base.\n",
      "If your task is similar to the task the model of the checkpoint was trained on, you can already use TFT5ForConditionalGeneration for predictions without further training.\n"
     ]
    }
   ],
   "source": [
    "t5_model = 't5-base'\n",
    "\n",
    "t5_tokenizer = T5Tokenizer.from_pretrained(t5_model)\n",
    "t5 = TFT5ForConditionalGeneration.from_pretrained(t5_model)"
   ]
  },
  {
   "cell_type": "code",
   "execution_count": 52,
   "id": "6805508d",
   "metadata": {},
   "outputs": [
    {
     "data": {
      "text/html": [
       "<div>\n",
       "<style scoped>\n",
       "    .dataframe tbody tr th:only-of-type {\n",
       "        vertical-align: middle;\n",
       "    }\n",
       "\n",
       "    .dataframe tbody tr th {\n",
       "        vertical-align: top;\n",
       "    }\n",
       "\n",
       "    .dataframe thead th {\n",
       "        text-align: right;\n",
       "    }\n",
       "</style>\n",
       "<table border=\"1\" class=\"dataframe\">\n",
       "  <thead>\n",
       "    <tr style=\"text-align: right;\">\n",
       "      <th></th>\n",
       "      <th>title</th>\n",
       "      <th>link</th>\n",
       "      <th>description</th>\n",
       "      <th>duration</th>\n",
       "      <th>podcast_id</th>\n",
       "      <th>transcript</th>\n",
       "      <th>cleaned_transcripts</th>\n",
       "    </tr>\n",
       "  </thead>\n",
       "  <tbody>\n",
       "    <tr>\n",
       "      <th>0</th>\n",
       "      <td>Changes To Texas Voting Rules Worry Older Vote...</td>\n",
       "      <td>https://www.npr.org/2022/03/02/1084043800/chan...</td>\n",
       "      <td>Election officials said more than 15,000 mail-...</td>\n",
       "      <td>842.0</td>\n",
       "      <td>1084043800</td>\n",
       "      <td>[&lt;div aria-label=\"Transcript\" class=\"transcrip...</td>\n",
       "      <td>Hi. My name is Joey (ph), and I'm a bike mech...</td>\n",
       "    </tr>\n",
       "    <tr>\n",
       "      <th>1</th>\n",
       "      <td>At The State Of The Union, Biden Wooed Moderat...</td>\n",
       "      <td>https://www.npr.org/2022/03/02/1083868631/at-t...</td>\n",
       "      <td>In his speech, the president emphasized polici...</td>\n",
       "      <td>1141.0</td>\n",
       "      <td>1083868631</td>\n",
       "      <td>[&lt;div aria-label=\"Transcript\" class=\"transcrip...</td>\n",
       "      <td>Hey there. It's the NPR POLITICS PODCAST. I'...</td>\n",
       "    </tr>\n",
       "    <tr>\n",
       "      <th>2</th>\n",
       "      <td>\"Awake Not Woke\": How Republicans Are Defining...</td>\n",
       "      <td>https://www.npr.org/2022/02/28/1083491401/-awa...</td>\n",
       "      <td>At last week's Conservative Political Action C...</td>\n",
       "      <td>828.0</td>\n",
       "      <td>1083491401</td>\n",
       "      <td>[&lt;div aria-label=\"Transcript\" class=\"transcrip...</td>\n",
       "      <td>(Speaking Catalan). And I'm her mother, Gina ...</td>\n",
       "    </tr>\n",
       "    <tr>\n",
       "      <th>3</th>\n",
       "      <td>Ketanji Brown Jackson Is The First Black Woman...</td>\n",
       "      <td>https://www.npr.org/2022/02/25/1083180663/keta...</td>\n",
       "      <td>Jackson's experiences working as a public defe...</td>\n",
       "      <td>1571.0</td>\n",
       "      <td>1083180663</td>\n",
       "      <td>[&lt;div aria-label=\"Transcript\" class=\"transcrip...</td>\n",
       "      <td>Hi, this is Teresa (ph) on Jekyll Island, Ga....</td>\n",
       "    </tr>\n",
       "    <tr>\n",
       "      <th>4</th>\n",
       "      <td>US Responds To Russian Invasion Of Ukraine Wit...</td>\n",
       "      <td>https://www.npr.org/2022/02/24/1082922707/us-r...</td>\n",
       "      <td>In a speech at the White House Thursday aftern...</td>\n",
       "      <td>796.0</td>\n",
       "      <td>1082922707</td>\n",
       "      <td>[&lt;div aria-label=\"Transcript\" class=\"transcrip...</td>\n",
       "      <td>Hey there. It's the NPR POLITICS PODCAST. It...</td>\n",
       "    </tr>\n",
       "    <tr>\n",
       "      <th>...</th>\n",
       "      <td>...</td>\n",
       "      <td>...</td>\n",
       "      <td>...</td>\n",
       "      <td>...</td>\n",
       "      <td>...</td>\n",
       "      <td>...</td>\n",
       "      <td>...</td>\n",
       "    </tr>\n",
       "    <tr>\n",
       "      <th>2052</th>\n",
       "      <td>American Shadows</td>\n",
       "      <td>https://www.npr.org/2019/02/13/694463513/ameri...</td>\n",
       "      <td>Conspiracy theories are a feature of today's n...</td>\n",
       "      <td>2495.0</td>\n",
       "      <td>694463513</td>\n",
       "      <td>[&lt;div aria-label=\"Transcript\" class=\"transcrip...</td>\n",
       "      <td>If you've ever watched a horror movie in whic...</td>\n",
       "    </tr>\n",
       "    <tr>\n",
       "      <th>2053</th>\n",
       "      <td>High Crimes And Misdemeanors</td>\n",
       "      <td>https://www.npr.org/2019/02/25/697896407/high-...</td>\n",
       "      <td>When Andrew Johnson became president in 1865, ...</td>\n",
       "      <td>1022.0</td>\n",
       "      <td>697896407</td>\n",
       "      <td>[&lt;div aria-label=\"Transcript\" class=\"transcrip...</td>\n",
       "      <td>Hey, I'm Ramtin Arablouei.  I'm Rund Abdelfa...</td>\n",
       "    </tr>\n",
       "    <tr>\n",
       "      <th>2054</th>\n",
       "      <td>The Forgotten War</td>\n",
       "      <td>https://www.npr.org/2019/02/12/694152504/the-f...</td>\n",
       "      <td>President Trump and North Korean Leader Kim Jo...</td>\n",
       "      <td>2053.0</td>\n",
       "      <td>694152504</td>\n",
       "      <td>[&lt;div aria-label=\"Transcript\" class=\"transcrip...</td>\n",
       "      <td>We're going to start this episode with the s...</td>\n",
       "    </tr>\n",
       "    <tr>\n",
       "      <th>2055</th>\n",
       "      <td>On the Shoulders of Giants</td>\n",
       "      <td>https://www.npr.org/2019/02/12/693878396/on-th...</td>\n",
       "      <td>When Colin Kaepernick stopped standing for the...</td>\n",
       "      <td>2345.0</td>\n",
       "      <td>693878396</td>\n",
       "      <td>[&lt;div aria-label=\"Transcript\" class=\"transcrip...</td>\n",
       "      <td>I would say that the purpose for us understan...</td>\n",
       "    </tr>\n",
       "    <tr>\n",
       "      <th>2056</th>\n",
       "      <td>Four Days in August</td>\n",
       "      <td>https://www.npr.org/2019/01/31/690363402/how-t...</td>\n",
       "      <td>It's no secret that Iran and the U.S. have a h...</td>\n",
       "      <td>2274.0</td>\n",
       "      <td>690363402</td>\n",
       "      <td>[&lt;div aria-label=\"Transcript\" class=\"transcrip...</td>\n",
       "      <td>August 15, 1953. Shortly before midnight in T...</td>\n",
       "    </tr>\n",
       "  </tbody>\n",
       "</table>\n",
       "<p>2057 rows × 7 columns</p>\n",
       "</div>"
      ],
      "text/plain": [
       "                                                  title  \\\n",
       "0     Changes To Texas Voting Rules Worry Older Vote...   \n",
       "1     At The State Of The Union, Biden Wooed Moderat...   \n",
       "2     \"Awake Not Woke\": How Republicans Are Defining...   \n",
       "3     Ketanji Brown Jackson Is The First Black Woman...   \n",
       "4     US Responds To Russian Invasion Of Ukraine Wit...   \n",
       "...                                                 ...   \n",
       "2052                                   American Shadows   \n",
       "2053                       High Crimes And Misdemeanors   \n",
       "2054                                  The Forgotten War   \n",
       "2055                         On the Shoulders of Giants   \n",
       "2056                                Four Days in August   \n",
       "\n",
       "                                                   link  \\\n",
       "0     https://www.npr.org/2022/03/02/1084043800/chan...   \n",
       "1     https://www.npr.org/2022/03/02/1083868631/at-t...   \n",
       "2     https://www.npr.org/2022/02/28/1083491401/-awa...   \n",
       "3     https://www.npr.org/2022/02/25/1083180663/keta...   \n",
       "4     https://www.npr.org/2022/02/24/1082922707/us-r...   \n",
       "...                                                 ...   \n",
       "2052  https://www.npr.org/2019/02/13/694463513/ameri...   \n",
       "2053  https://www.npr.org/2019/02/25/697896407/high-...   \n",
       "2054  https://www.npr.org/2019/02/12/694152504/the-f...   \n",
       "2055  https://www.npr.org/2019/02/12/693878396/on-th...   \n",
       "2056  https://www.npr.org/2019/01/31/690363402/how-t...   \n",
       "\n",
       "                                            description  duration  podcast_id  \\\n",
       "0     Election officials said more than 15,000 mail-...     842.0  1084043800   \n",
       "1     In his speech, the president emphasized polici...    1141.0  1083868631   \n",
       "2     At last week's Conservative Political Action C...     828.0  1083491401   \n",
       "3     Jackson's experiences working as a public defe...    1571.0  1083180663   \n",
       "4     In a speech at the White House Thursday aftern...     796.0  1082922707   \n",
       "...                                                 ...       ...         ...   \n",
       "2052  Conspiracy theories are a feature of today's n...    2495.0   694463513   \n",
       "2053  When Andrew Johnson became president in 1865, ...    1022.0   697896407   \n",
       "2054  President Trump and North Korean Leader Kim Jo...    2053.0   694152504   \n",
       "2055  When Colin Kaepernick stopped standing for the...    2345.0   693878396   \n",
       "2056  It's no secret that Iran and the U.S. have a h...    2274.0   690363402   \n",
       "\n",
       "                                             transcript  \\\n",
       "0     [<div aria-label=\"Transcript\" class=\"transcrip...   \n",
       "1     [<div aria-label=\"Transcript\" class=\"transcrip...   \n",
       "2     [<div aria-label=\"Transcript\" class=\"transcrip...   \n",
       "3     [<div aria-label=\"Transcript\" class=\"transcrip...   \n",
       "4     [<div aria-label=\"Transcript\" class=\"transcrip...   \n",
       "...                                                 ...   \n",
       "2052  [<div aria-label=\"Transcript\" class=\"transcrip...   \n",
       "2053  [<div aria-label=\"Transcript\" class=\"transcrip...   \n",
       "2054  [<div aria-label=\"Transcript\" class=\"transcrip...   \n",
       "2055  [<div aria-label=\"Transcript\" class=\"transcrip...   \n",
       "2056  [<div aria-label=\"Transcript\" class=\"transcrip...   \n",
       "\n",
       "                                    cleaned_transcripts  \n",
       "0      Hi. My name is Joey (ph), and I'm a bike mech...  \n",
       "1       Hey there. It's the NPR POLITICS PODCAST. I'...  \n",
       "2      (Speaking Catalan). And I'm her mother, Gina ...  \n",
       "3      Hi, this is Teresa (ph) on Jekyll Island, Ga....  \n",
       "4       Hey there. It's the NPR POLITICS PODCAST. It...  \n",
       "...                                                 ...  \n",
       "2052   If you've ever watched a horror movie in whic...  \n",
       "2053    Hey, I'm Ramtin Arablouei.  I'm Rund Abdelfa...  \n",
       "2054    We're going to start this episode with the s...  \n",
       "2055   I would say that the purpose for us understan...  \n",
       "2056   August 15, 1953. Shortly before midnight in T...  \n",
       "\n",
       "[2057 rows x 7 columns]"
      ]
     },
     "execution_count": 52,
     "metadata": {},
     "output_type": "execute_result"
    }
   ],
   "source": [
    "transcripts = pd.read_csv('cleaned_transcripts.csv').drop(['Unnamed: 0'], axis=1)\n",
    "transcripts"
   ]
  },
  {
   "cell_type": "code",
   "execution_count": 53,
   "id": "f899af8d",
   "metadata": {},
   "outputs": [
    {
     "data": {
      "text/plain": [
       "\"It'll be incumbent Republican Greg Abbott against Democrat Beto O'Rourke. Many other high-profile primary races are headed to runoffs, including Democratic Congressman Henry Cuellar, who is one of Congress's most conservative Democrats in the entire body. He'll be facing progressive challenger Jessica Cisneros. But it was also the first Election Day since sweeping election changes in the state that drastically change how a lot of people cast ballots. Before we get into the impact that that might have had, Ashley, I'm wondering if you can just start off for people who aren't, you know, in the weeds the same way you are into Texas election law. What changes were made since the 2020 election to how people vote there? Right. So lawmakers here passed SB 1. It - and that's a pretty massive overhaul of the state's election code, actually. So it changed a lot of things. For one, when it comes to in-person voting, the state set new limits for when polls can be open. It also got rid of drive-through voting.\""
      ]
     },
     "execution_count": 53,
     "metadata": {},
     "output_type": "execute_result"
    }
   ],
   "source": [
    "text = transcripts['cleaned_transcripts'][0][1051:2063]\n",
    "text"
   ]
  },
  {
   "cell_type": "code",
   "execution_count": 54,
   "id": "13799016",
   "metadata": {},
   "outputs": [],
   "source": [
    "encoding = t5_tokenizer.encode(\"\"\"summarize: \"\"\" + text, return_tensors='tf')\n",
    "\n",
    "\n",
    "outputs = t5.generate(encoding,\n",
    "                      num_beams=4, \n",
    "                      no_repeat_ngram_size=2,\n",
    "                      min_length=30,\n",
    "                      max_length=100,\n",
    "                      early_stopping=True)\n",
    "\n",
    "summarization = t5_tokenizer.decode(outputs[0])"
   ]
  },
  {
   "cell_type": "code",
   "execution_count": 55,
   "id": "0fb2341c",
   "metadata": {},
   "outputs": [
    {
     "data": {
      "text/plain": [
       "<tf.Tensor: shape=(1, 62), dtype=int32, numpy=\n",
       "array([[    0,    34,    47,    92,     8,   166,  4356,   239,   437,\n",
       "            3, 23164,  4356,  1112,    16,     8,   538,     3,     5,\n",
       "        23419,   270,  2804,     3,     9,  2876,    24, 24173,  2130,\n",
       "          149,   151,  4061, 16524,     7,    16,     3, 10354,     9,\n",
       "            7,     6,   379,    16,    18,  6075, 10601,     6,  1262,\n",
       "           18, 11258, 10601,    11,     8,     3,     7,    35,   342,\n",
       "           31,     7,  4514,    30,  2191,   190,     7,     5]],\n",
       "      dtype=int32)>"
      ]
     },
     "execution_count": 55,
     "metadata": {},
     "output_type": "execute_result"
    }
   ],
   "source": [
    "outputs"
   ]
  },
  {
   "cell_type": "code",
   "execution_count": 56,
   "id": "f4865812",
   "metadata": {},
   "outputs": [
    {
     "data": {
      "text/plain": [
       "\"<pad> it was also the first election day since sweeping election changes in the state. lawmakers here passed a bill that drastically changed how people cast ballots in texas, including in-person voting, drive-through voting and the senate's ban on driving throughs.\""
      ]
     },
     "execution_count": 56,
     "metadata": {},
     "output_type": "execute_result"
    }
   ],
   "source": [
    "summarization"
   ]
  },
  {
   "cell_type": "markdown",
   "id": "47edcc30",
   "metadata": {},
   "source": [
    "## Paulowoicho T5 podcast summarization model"
   ]
  },
  {
   "cell_type": "markdown",
   "id": "3d02fcb7",
   "metadata": {},
   "source": [
    "### Helpful links:\n",
    "- https://metatext.io/models/paulowoicho-t5-podcast-summarisation\n",
    "- https://huggingface.co/paulowoicho/t5-podcast-summarisation\n",
    "\n",
    "### Fine Tuning links to look at later: \n",
    "- https://github.com/datasci-w266/2022-spring-main/blob/master/materials/walkthrough_notebooks/bert-finetuning/BERT_Fine-tuning.ipynb\n",
    "- https://github.com/abhimishra91/transformers-tutorials/blob/master/transformers_summarization_wandb.ipynb\n"
   ]
  },
  {
   "cell_type": "code",
   "execution_count": 57,
   "id": "da8ac0cb",
   "metadata": {},
   "outputs": [],
   "source": [
    "import transformers\n",
    "from transformers import pipeline\n",
    "from transformers import AutoModel, AutoTokenizer \n",
    "from transformers import TFAutoModelForSeq2SeqLM, TFT5ForConditionalGeneration"
   ]
  },
  {
   "cell_type": "code",
   "execution_count": 58,
   "id": "7890c62b",
   "metadata": {},
   "outputs": [],
   "source": [
    "model_name = \"paulowoicho/t5-podcast-summarisation\" \n"
   ]
  },
  {
   "cell_type": "code",
   "execution_count": 62,
   "id": "966127f5",
   "metadata": {},
   "outputs": [],
   "source": [
    "#!pip install torch\n",
    "#!pip3 install torch torchvision\n",
    "import torch"
   ]
  },
  {
   "cell_type": "code",
   "execution_count": 63,
   "id": "771a0ec9",
   "metadata": {},
   "outputs": [
    {
     "name": "stderr",
     "output_type": "stream",
     "text": [
      "Some weights of the model checkpoint at paulowoicho/t5-podcast-summarisation were not used when initializing T5Model: ['lm_head.weight']\n",
      "- This IS expected if you are initializing T5Model from the checkpoint of a model trained on another task or with another architecture (e.g. initializing a BertForSequenceClassification model from a BertForPreTraining model).\n",
      "- This IS NOT expected if you are initializing T5Model from the checkpoint of a model that you expect to be exactly identical (initializing a BertForSequenceClassification model from a BertForSequenceClassification model).\n"
     ]
    }
   ],
   "source": [
    "model = AutoModel.from_pretrained(model_name)\n",
    "tokenizer= AutoTokenizer.from_pretrained(model_name)"
   ]
  },
  {
   "cell_type": "code",
   "execution_count": 64,
   "id": "820dcee0",
   "metadata": {},
   "outputs": [
    {
     "data": {
      "text/html": [
       "<div>\n",
       "<style scoped>\n",
       "    .dataframe tbody tr th:only-of-type {\n",
       "        vertical-align: middle;\n",
       "    }\n",
       "\n",
       "    .dataframe tbody tr th {\n",
       "        vertical-align: top;\n",
       "    }\n",
       "\n",
       "    .dataframe thead th {\n",
       "        text-align: right;\n",
       "    }\n",
       "</style>\n",
       "<table border=\"1\" class=\"dataframe\">\n",
       "  <thead>\n",
       "    <tr style=\"text-align: right;\">\n",
       "      <th></th>\n",
       "      <th>title</th>\n",
       "      <th>link</th>\n",
       "      <th>description</th>\n",
       "      <th>duration</th>\n",
       "      <th>podcast_id</th>\n",
       "      <th>transcript</th>\n",
       "      <th>cleaned_transcripts</th>\n",
       "    </tr>\n",
       "  </thead>\n",
       "  <tbody>\n",
       "    <tr>\n",
       "      <th>0</th>\n",
       "      <td>Changes To Texas Voting Rules Worry Older Vote...</td>\n",
       "      <td>https://www.npr.org/2022/03/02/1084043800/chan...</td>\n",
       "      <td>Election officials said more than 15,000 mail-...</td>\n",
       "      <td>842.0</td>\n",
       "      <td>1084043800</td>\n",
       "      <td>[&lt;div aria-label=\"Transcript\" class=\"transcrip...</td>\n",
       "      <td>Hi. My name is Joey (ph), and I'm a bike mech...</td>\n",
       "    </tr>\n",
       "    <tr>\n",
       "      <th>1</th>\n",
       "      <td>At The State Of The Union, Biden Wooed Moderat...</td>\n",
       "      <td>https://www.npr.org/2022/03/02/1083868631/at-t...</td>\n",
       "      <td>In his speech, the president emphasized polici...</td>\n",
       "      <td>1141.0</td>\n",
       "      <td>1083868631</td>\n",
       "      <td>[&lt;div aria-label=\"Transcript\" class=\"transcrip...</td>\n",
       "      <td>Hey there. It's the NPR POLITICS PODCAST. I'...</td>\n",
       "    </tr>\n",
       "    <tr>\n",
       "      <th>2</th>\n",
       "      <td>\"Awake Not Woke\": How Republicans Are Defining...</td>\n",
       "      <td>https://www.npr.org/2022/02/28/1083491401/-awa...</td>\n",
       "      <td>At last week's Conservative Political Action C...</td>\n",
       "      <td>828.0</td>\n",
       "      <td>1083491401</td>\n",
       "      <td>[&lt;div aria-label=\"Transcript\" class=\"transcrip...</td>\n",
       "      <td>(Speaking Catalan). And I'm her mother, Gina ...</td>\n",
       "    </tr>\n",
       "    <tr>\n",
       "      <th>3</th>\n",
       "      <td>Ketanji Brown Jackson Is The First Black Woman...</td>\n",
       "      <td>https://www.npr.org/2022/02/25/1083180663/keta...</td>\n",
       "      <td>Jackson's experiences working as a public defe...</td>\n",
       "      <td>1571.0</td>\n",
       "      <td>1083180663</td>\n",
       "      <td>[&lt;div aria-label=\"Transcript\" class=\"transcrip...</td>\n",
       "      <td>Hi, this is Teresa (ph) on Jekyll Island, Ga....</td>\n",
       "    </tr>\n",
       "    <tr>\n",
       "      <th>4</th>\n",
       "      <td>US Responds To Russian Invasion Of Ukraine Wit...</td>\n",
       "      <td>https://www.npr.org/2022/02/24/1082922707/us-r...</td>\n",
       "      <td>In a speech at the White House Thursday aftern...</td>\n",
       "      <td>796.0</td>\n",
       "      <td>1082922707</td>\n",
       "      <td>[&lt;div aria-label=\"Transcript\" class=\"transcrip...</td>\n",
       "      <td>Hey there. It's the NPR POLITICS PODCAST. It...</td>\n",
       "    </tr>\n",
       "  </tbody>\n",
       "</table>\n",
       "</div>"
      ],
      "text/plain": [
       "                                               title  \\\n",
       "0  Changes To Texas Voting Rules Worry Older Vote...   \n",
       "1  At The State Of The Union, Biden Wooed Moderat...   \n",
       "2  \"Awake Not Woke\": How Republicans Are Defining...   \n",
       "3  Ketanji Brown Jackson Is The First Black Woman...   \n",
       "4  US Responds To Russian Invasion Of Ukraine Wit...   \n",
       "\n",
       "                                                link  \\\n",
       "0  https://www.npr.org/2022/03/02/1084043800/chan...   \n",
       "1  https://www.npr.org/2022/03/02/1083868631/at-t...   \n",
       "2  https://www.npr.org/2022/02/28/1083491401/-awa...   \n",
       "3  https://www.npr.org/2022/02/25/1083180663/keta...   \n",
       "4  https://www.npr.org/2022/02/24/1082922707/us-r...   \n",
       "\n",
       "                                         description  duration  podcast_id  \\\n",
       "0  Election officials said more than 15,000 mail-...     842.0  1084043800   \n",
       "1  In his speech, the president emphasized polici...    1141.0  1083868631   \n",
       "2  At last week's Conservative Political Action C...     828.0  1083491401   \n",
       "3  Jackson's experiences working as a public defe...    1571.0  1083180663   \n",
       "4  In a speech at the White House Thursday aftern...     796.0  1082922707   \n",
       "\n",
       "                                          transcript  \\\n",
       "0  [<div aria-label=\"Transcript\" class=\"transcrip...   \n",
       "1  [<div aria-label=\"Transcript\" class=\"transcrip...   \n",
       "2  [<div aria-label=\"Transcript\" class=\"transcrip...   \n",
       "3  [<div aria-label=\"Transcript\" class=\"transcrip...   \n",
       "4  [<div aria-label=\"Transcript\" class=\"transcrip...   \n",
       "\n",
       "                                 cleaned_transcripts  \n",
       "0   Hi. My name is Joey (ph), and I'm a bike mech...  \n",
       "1    Hey there. It's the NPR POLITICS PODCAST. I'...  \n",
       "2   (Speaking Catalan). And I'm her mother, Gina ...  \n",
       "3   Hi, this is Teresa (ph) on Jekyll Island, Ga....  \n",
       "4    Hey there. It's the NPR POLITICS PODCAST. It...  "
      ]
     },
     "execution_count": 64,
     "metadata": {},
     "output_type": "execute_result"
    }
   ],
   "source": [
    "transcripts.head()"
   ]
  },
  {
   "cell_type": "code",
   "execution_count": 89,
   "id": "1bc1eca7",
   "metadata": {},
   "outputs": [
    {
     "data": {
      "text/plain": [
       "\"It'll be incumbent Republican Greg Abbott against Democrat Beto O'Rourke. Many other high-profile primary races are headed to runoffs, including Democratic Congressman Henry Cuellar, who is one of Congress's most conservative Democrats in the entire body. He'll be facing progressive challenger Jessica Cisneros. But it was also the first Election Day since sweeping election changes in the state that drastically change how a lot of people cast ballots. Before we get into the impact that that might have had, Ashley, I'm wondering if you can just start off for people who aren't, you know, in the weeds the same way you are into Texas election law. What changes were made since the 2020 election to how people vote there? Right. So lawmakers here passed SB 1. It - and that's a pretty massive overhaul of the state's election code, actually. So it changed a lot of things. For one, when it comes to in-person voting, the state set new limits for when polls can be open. It also got rid of drive-through voting.\""
      ]
     },
     "execution_count": 89,
     "metadata": {},
     "output_type": "execute_result"
    }
   ],
   "source": [
    "text = transcripts['cleaned_transcripts'][0][1051:2063]\n",
    "text"
   ]
  },
  {
   "cell_type": "code",
   "execution_count": 83,
   "id": "bd8cca70",
   "metadata": {},
   "outputs": [],
   "source": [
    "#inputs = tokenizer(text, return_tensors=\"pt\")"
   ]
  },
  {
   "cell_type": "code",
   "execution_count": 84,
   "id": "7006ad60",
   "metadata": {},
   "outputs": [],
   "source": [
    "#outputs = model(**inputs)"
   ]
  },
  {
   "cell_type": "code",
   "execution_count": 90,
   "id": "3ec7f704",
   "metadata": {},
   "outputs": [
    {
     "name": "stdout",
     "output_type": "stream",
     "text": [
      "this was the first election day that sweeping election changes in the state dramatically changed how people cast\n"
     ]
    }
   ],
   "source": [
    "summarizer = pipeline(\"summarization\", model=\"paulowoicho/t5-podcast-summarisation\", tokenizer=\"paulowoicho/t5-podcast-summarisation\")\n",
    "summary = summarizer(text, min_length=5, max_length=20)\n",
    "\n",
    "print(summary[0]['summary_text'])"
   ]
  },
  {
   "cell_type": "markdown",
   "id": "8a198cc9",
   "metadata": {},
   "source": []
  },
  {
   "cell_type": "code",
   "execution_count": null,
   "id": "00c46b34",
   "metadata": {},
   "outputs": [],
   "source": []
  }
 ],
 "metadata": {
  "kernelspec": {
   "display_name": "Python 3",
   "language": "python",
   "name": "python3"
  },
  "language_info": {
   "codemirror_mode": {
    "name": "ipython",
    "version": 3
   },
   "file_extension": ".py",
   "mimetype": "text/x-python",
   "name": "python",
   "nbconvert_exporter": "python",
   "pygments_lexer": "ipython3",
   "version": "3.8.3"
  }
 },
 "nbformat": 4,
 "nbformat_minor": 5
}
